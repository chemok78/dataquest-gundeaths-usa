{
 "cells": [
  {
   "cell_type": "code",
   "execution_count": 1,
   "metadata": {
    "collapsed": false,
    "scrolled": false
   },
   "outputs": [
    {
     "name": "stdout",
     "output_type": "stream",
     "text": [
      "[['', 'year', 'month', 'intent', 'police', 'sex', 'age', 'race', 'hispanic', 'place', 'education'], ['1', '2012', '01', 'Suicide', '0', 'M', '34', 'Asian/Pacific Islander', '100', 'Home', '4'], ['2', '2012', '01', 'Suicide', '0', 'F', '21', 'White', '100', 'Street', '3'], ['3', '2012', '01', 'Suicide', '0', 'M', '60', 'White', '100', 'Other specified', '4'], ['4', '2012', '02', 'Suicide', '0', 'M', '64', 'White', '100', 'Home', '4']]\n"
     ]
    }
   ],
   "source": [
    "import csv\n",
    "f = open(\"guns.csv\", \"r\")\n",
    "data = list(csv.reader(f))\n",
    "print(data[0:5])\n",
    "\n"
   ]
  },
  {
   "cell_type": "code",
   "execution_count": 3,
   "metadata": {
    "collapsed": false
   },
   "outputs": [
    {
     "name": "stdout",
     "output_type": "stream",
     "text": [
      "['1', '2012', '01', 'Suicide', '0', 'M', '34', 'Asian/Pacific Islander', '100', 'Home', '4']\n",
      "[['2', '2012', '01', 'Suicide', '0', 'F', '21', 'White', '100', 'Street', '3'], ['3', '2012', '01', 'Suicide', '0', 'M', '60', 'White', '100', 'Other specified', '4'], ['4', '2012', '02', 'Suicide', '0', 'M', '64', 'White', '100', 'Home', '4'], ['5', '2012', '02', 'Suicide', '0', 'M', '31', 'White', '100', 'Other specified', '2'], ['6', '2012', '02', 'Suicide', '0', 'M', '17', 'Native American/Native Alaskan', '100', 'Home', '1']]\n"
     ]
    }
   ],
   "source": [
    "headers = data[0]\n",
    "data = data[1:len(data)]\n",
    "print(headers)\n",
    "print(data[0:5])"
   ]
  },
  {
   "cell_type": "code",
   "execution_count": 4,
   "metadata": {
    "collapsed": false
   },
   "outputs": [
    {
     "name": "stdout",
     "output_type": "stream",
     "text": [
      "{'2013': 33636, '2012': 33562, '2014': 33599}\n"
     ]
    }
   ],
   "source": [
    "years = [item[1] for item in  data]\n",
    "year_counts = {}\n",
    "for year in years:\n",
    "    if year in year_counts:\n",
    "        year_counts[year] +=1\n",
    "    else:\n",
    "        year_counts[year] = 1\n",
    "print(year_counts)"
   ]
  },
  {
   "cell_type": "code",
   "execution_count": 6,
   "metadata": {
    "collapsed": false,
    "scrolled": true
   },
   "outputs": [
    {
     "name": "stdout",
     "output_type": "stream",
     "text": [
      "[datetime.datetime(2012, 1, 1, 0, 0), datetime.datetime(2012, 1, 1, 0, 0), datetime.datetime(2012, 2, 1, 0, 0), datetime.datetime(2012, 2, 1, 0, 0), datetime.datetime(2012, 2, 1, 0, 0)]\n"
     ]
    }
   ],
   "source": [
    "import datetime\n",
    "dates = [datetime.datetime(year=int(item[1]), month=int(item[2]), day=1) for item in data]\n",
    "print(dates[0:5])\n",
    "\n",
    "\n",
    "\n",
    "\n"
   ]
  },
  {
   "cell_type": "code",
   "execution_count": 7,
   "metadata": {
    "collapsed": false,
    "scrolled": true
   },
   "outputs": [
    {
     "name": "stdout",
     "output_type": "stream",
     "text": [
      "{datetime.datetime(2014, 8, 1, 0, 0): 2970, datetime.datetime(2013, 1, 1, 0, 0): 2864, datetime.datetime(2013, 10, 1, 0, 0): 2808, datetime.datetime(2013, 4, 1, 0, 0): 2798, datetime.datetime(2013, 3, 1, 0, 0): 2862, datetime.datetime(2012, 8, 1, 0, 0): 2954, datetime.datetime(2012, 9, 1, 0, 0): 2852, datetime.datetime(2014, 6, 1, 0, 0): 2931, datetime.datetime(2014, 1, 1, 0, 0): 2651, datetime.datetime(2012, 10, 1, 0, 0): 2733, datetime.datetime(2012, 3, 1, 0, 0): 2743, datetime.datetime(2013, 7, 1, 0, 0): 3079, datetime.datetime(2012, 4, 1, 0, 0): 2795, datetime.datetime(2014, 7, 1, 0, 0): 2884, datetime.datetime(2014, 10, 1, 0, 0): 2865, datetime.datetime(2014, 2, 1, 0, 0): 2361, datetime.datetime(2012, 6, 1, 0, 0): 2826, datetime.datetime(2012, 5, 1, 0, 0): 2999, datetime.datetime(2012, 7, 1, 0, 0): 3026, datetime.datetime(2013, 12, 1, 0, 0): 2765, datetime.datetime(2012, 12, 1, 0, 0): 2791, datetime.datetime(2014, 9, 1, 0, 0): 2914, datetime.datetime(2013, 8, 1, 0, 0): 2859, datetime.datetime(2012, 2, 1, 0, 0): 2357, datetime.datetime(2014, 11, 1, 0, 0): 2756, datetime.datetime(2013, 5, 1, 0, 0): 2806, datetime.datetime(2012, 1, 1, 0, 0): 2757, datetime.datetime(2014, 4, 1, 0, 0): 2862, datetime.datetime(2014, 5, 1, 0, 0): 2864, datetime.datetime(2013, 6, 1, 0, 0): 2920, datetime.datetime(2013, 2, 1, 0, 0): 2375, datetime.datetime(2013, 11, 1, 0, 0): 2758, datetime.datetime(2014, 3, 1, 0, 0): 2684, datetime.datetime(2012, 11, 1, 0, 0): 2729, datetime.datetime(2014, 12, 1, 0, 0): 2857, datetime.datetime(2013, 9, 1, 0, 0): 2742}\n"
     ]
    }
   ],
   "source": [
    "date_counts = {}\n",
    "for date in dates:\n",
    "    if date in date_counts:\n",
    "        date_counts[date] += 1\n",
    "    else:\n",
    "        date_counts[date] = 1\n",
    "print(date_counts)"
   ]
  },
  {
   "cell_type": "code",
   "execution_count": 9,
   "metadata": {
    "collapsed": false
   },
   "outputs": [
    {
     "name": "stdout",
     "output_type": "stream",
     "text": [
      "{'M': 86348, 'F': 14449}\n",
      "{'Hispanic': 9022, 'Asian/Pacific Islander': 1325, 'Black': 23296, 'Native American/Native Alaskan': 917, 'White': 66237}\n"
     ]
    }
   ],
   "source": [
    "#dictionaries to hold counts\n",
    "sex_counts = {}\n",
    "race_counts = {}\n",
    "#create count dictionaries function\n",
    "#index is the column in data \n",
    "def counts(index, dictionary):\n",
    "    for item in data:\n",
    "        if(item[index]) in dictionary:\n",
    "            dictionary[item[index]] +=1\n",
    "        else:\n",
    "            dictionary[item[index]] = 1\n",
    "\n",
    "counts(5, sex_counts)\n",
    "counts(7, race_counts)\n",
    "            \n",
    "print(sex_counts)\n",
    "print(race_counts)\n"
   ]
  },
  {
   "cell_type": "code",
   "execution_count": 10,
   "metadata": {
    "collapsed": false,
    "scrolled": true
   },
   "outputs": [
    {
     "name": "stdout",
     "output_type": "stream",
     "text": [
      "[['Id', 'Year', 'Id', 'Sex', 'Id', 'Hispanic Origin', 'Id', 'Id2', 'Geography', 'Total', 'Race Alone - White', 'Race Alone - Hispanic', 'Race Alone - Black or African American', 'Race Alone - American Indian and Alaska Native', 'Race Alone - Asian', 'Race Alone - Native Hawaiian and Other Pacific Islander', 'Two or More Races'], ['cen42010', 'April 1, 2010 Census', 'totsex', 'Both Sexes', 'tothisp', 'Total', '0100000US', '', 'United States', '308745538', '197318956', '44618105', '40250635', '3739506', '15159516', '674625', '6984195']]\n"
     ]
    }
   ],
   "source": [
    "f = open(\"census.csv\", \"r\")\n",
    "census = list(csv.reader(f))\n",
    "print(census)"
   ]
  },
  {
   "cell_type": "code",
   "execution_count": 14,
   "metadata": {
    "collapsed": false
   },
   "outputs": [
    {
     "name": "stdout",
     "output_type": "stream",
     "text": [
      "{'Hispanic': 20.22, 'Asian/Pacific Islander': 8.37, 'Black': 57.88, 'Native American/Native Alaskan': 24.52, 'White': 33.57}\n"
     ]
    }
   ],
   "source": [
    "# dictionary to map race in gun deaths to census value\n",
    "mapping = {\"Asian/Pacific Islander\": 15834141, \"Black\":40250635, \"Native American/Native Alaskan\":3739506, \"Hispanic\":44618105, \"White\":197318956}\n",
    "race_per_hundredk = {}\n",
    "# loop through race_counts and calculate deaths per 100000 \n",
    "# round to 2 decimals\n",
    "for race,value in race_counts.items():\n",
    "    value = round((value/mapping[race]) * 100000,2)\n",
    "    race_per_hundredk[race] = value\n",
    "print(race_per_hundredk)\n",
    "    \n",
    "    \n",
    "\n"
   ]
  },
  {
   "cell_type": "code",
   "execution_count": 31,
   "metadata": {
    "collapsed": false,
    "scrolled": true
   },
   "outputs": [
    {
     "name": "stdout",
     "output_type": "stream",
     "text": [
      "{'Hispanic': 5634, 'Asian/Pacific Islander': 559, 'Black': 19510, 'Native American/Native Alaskan': 326, 'White': 9147}\n"
     ]
    }
   ],
   "source": [
    "intents = [item[3] for item in data]\n",
    "#print(intents)\n",
    "races = [item[7] for item in data]\n",
    "#print(races)\n",
    "homicide_race_per_hundredk = {}\n",
    "# loop through every race element from data set\n",
    "for i,race in enumerate(races):\n",
    "    if intents[i] == \"Homicide\":\n",
    "        if race in homicide_race_per_hundredk:\n",
    "            homicide_race_per_hundredk[race] += 1\n",
    "        else:\n",
    "            homicide_race_per_hundredk[race] = 1\n",
    "print(homicide_race_per_hundredk)\n",
    "        "
   ]
  },
  {
   "cell_type": "code",
   "execution_count": 33,
   "metadata": {
    "collapsed": false
   },
   "outputs": [
    {
     "name": "stdout",
     "output_type": "stream",
     "text": [
      "{'Hispanic': 12.63, 'Asian/Pacific Islander': 3.53, 'Black': 48.47, 'Native American/Native Alaskan': 8.72, 'White': 4.64}\n"
     ]
    }
   ],
   "source": [
    "for race,value in homicide_race_per_hundredk.items():\n",
    "    value = round((value/mapping[race]) * 100000,2)\n",
    "    homicide_race_per_hundredk[race] = value\n",
    "print(homicide_race_per_hundredk)"
   ]
  },
  {
   "cell_type": "markdown",
   "metadata": {},
   "source": [
    "Most people murdered are black with 48.47 out of 100K people. Second hispanic with 12.63."
   ]
  }
 ],
 "metadata": {
  "kernelspec": {
   "display_name": "Python 3",
   "language": "python",
   "name": "python3"
  },
  "language_info": {
   "codemirror_mode": {
    "name": "ipython",
    "version": 3
   },
   "file_extension": ".py",
   "mimetype": "text/x-python",
   "name": "python",
   "nbconvert_exporter": "python",
   "pygments_lexer": "ipython3",
   "version": "3.4.3"
  }
 },
 "nbformat": 4,
 "nbformat_minor": 0
}
